{
  "cells": [
    {
      "cell_type": "markdown",
      "metadata": {
        "id": "view-in-github",
        "colab_type": "text"
      },
      "source": [
        "<a href=\"https://colab.research.google.com/github/MitsuyoMurata/Mitsuyo-Murata/blob/main/Final_Project.ipynb\" target=\"_parent\"><img src=\"https://colab.research.google.com/assets/colab-badge.svg\" alt=\"Open In Colab\"/></a>"
      ]
    },
    {
      "cell_type": "code",
      "execution_count": null,
      "metadata": {
        "colab": {
          "background_save": true
        },
        "id": "__cD12orUaov"
      },
      "outputs": [],
      "source": [
        "import requests"
      ]
    },
    {
      "cell_type": "code",
      "execution_count": null,
      "metadata": {
        "colab": {
          "background_save": true
        },
        "id": "6q82gd4BZkzQ"
      },
      "outputs": [],
      "source": [
        "import json"
      ]
    },
    {
      "cell_type": "code",
      "execution_count": null,
      "metadata": {
        "id": "UvHmpZDNbyru"
      },
      "outputs": [],
      "source": [
        "from google.colab import drive\n",
        "drive.mount('/content/drive')"
      ]
    },
    {
      "cell_type": "code",
      "execution_count": null,
      "metadata": {
        "colab": {
          "background_save": true
        },
        "id": "hJ8pnw4fb0do"
      },
      "outputs": [],
      "source": [
        "folder_path = '/content/drive/MyDrive/Python_course_2024/Final_Project'"
      ]
    },
    {
      "cell_type": "code",
      "execution_count": null,
      "metadata": {
        "colab": {
          "background_save": true
        },
        "id": "bf4540jeUunl"
      },
      "outputs": [],
      "source": [
        "response = requests.get(\"https://kokkai.ndl.go.jp/api/speech?from=1963-02-19&until=1963-07-06&nameOfMeeting=本会議 商工委員会&any=中小企業基本法&recordPacking=json\")"
      ]
    },
    {
      "cell_type": "code",
      "execution_count": null,
      "metadata": {
        "colab": {
          "background_save": true
        },
        "id": "VEnpMocjY_RF",
        "outputId": "8302ad0a-cd0f-4c98-e307-f5f04715f9df"
      },
      "outputs": [
        {
          "name": "stdout",
          "output_type": "stream",
          "text": [
            "200\n"
          ]
        }
      ],
      "source": [
        "print(response.status_code)"
      ]
    },
    {
      "cell_type": "code",
      "execution_count": null,
      "metadata": {
        "id": "0MbUvdETcFlG"
      },
      "outputs": [],
      "source": [
        "response.encoding = 'utf-8'"
      ]
    },
    {
      "cell_type": "code",
      "execution_count": null,
      "metadata": {
        "id": "LcxBnzIwZSn1"
      },
      "outputs": [],
      "source": [
        "data1963 = response.json()"
      ]
    },
    {
      "cell_type": "code",
      "execution_count": null,
      "metadata": {
        "id": "z5uMyELkZli5"
      },
      "outputs": [],
      "source": [
        "def jprint(obj):\n",
        "    text = json.dumps(obj, ensure_ascii=False, sort_keys=True, indent=4)\n",
        "    print(text)"
      ]
    },
    {
      "cell_type": "code",
      "execution_count": null,
      "metadata": {
        "collapsed": true,
        "id": "tem8sWhVOxdl"
      },
      "outputs": [],
      "source": [
        "text1963 = jprint(data1963)"
      ]
    },
    {
      "cell_type": "code",
      "execution_count": null,
      "metadata": {
        "id": "F1wbRG-vXcu0"
      },
      "outputs": [],
      "source": [
        "print(data1963)"
      ]
    },
    {
      "cell_type": "code",
      "execution_count": null,
      "metadata": {
        "id": "cG_7mfo9cWQs"
      },
      "outputs": [],
      "source": [
        "type(data1963)"
      ]
    },
    {
      "cell_type": "code",
      "execution_count": null,
      "metadata": {
        "id": "QY5JJEAgdClN"
      },
      "outputs": [],
      "source": [
        "import json"
      ]
    },
    {
      "cell_type": "code",
      "execution_count": null,
      "metadata": {
        "id": "Fpq3e84adICu"
      },
      "outputs": [],
      "source": [
        "text1963 = json.dumps(data1963, ensure_ascii=False)"
      ]
    },
    {
      "cell_type": "code",
      "execution_count": null,
      "metadata": {
        "id": "RvFTUxCyeIjs"
      },
      "outputs": [],
      "source": [
        "type(text1963)"
      ]
    },
    {
      "cell_type": "code",
      "execution_count": null,
      "metadata": {
        "id": "DZlG3HqJYSup"
      },
      "outputs": [],
      "source": [
        "file_path = '/content/drive/MyDrive/Python_course_2024/Final_Project/text1963.txt'"
      ]
    },
    {
      "cell_type": "code",
      "execution_count": null,
      "metadata": {
        "id": "3iJ8xECdJVms"
      },
      "outputs": [],
      "source": [
        "if text1963 is not None:\n",
        "    with open(file_path, 'w', encoding=\"utf-8\") as file:\n",
        "        file.write(text1963)\n",
        "    print(f\"Data saved to {file_path}\")\n",
        "else:\n",
        "    print(\"Error: text1963 is None. Please provide valid content.\")"
      ]
    },
    {
      "cell_type": "code",
      "execution_count": null,
      "metadata": {
        "colab": {
          "background_save": true,
          "base_uri": "https://localhost:8080/"
        },
        "id": "6RJ06BuvhyR-",
        "outputId": "50936a73-8b46-4559-cd43-6efe27116493"
      },
      "outputs": [
        {
          "name": "stdout",
          "output_type": "stream",
          "text": [
            "Found existing installation: translate 3.6.1\n",
            "Uninstalling translate-3.6.1:\n",
            "  Would remove:\n",
            "    /usr/local/bin/translate-cli\n",
            "    /usr/local/lib/python3.10/dist-packages/translate-3.6.1.dist-info/*\n",
            "    /usr/local/lib/python3.10/dist-packages/translate/*\n",
            "  Would not remove (might be manually added):\n",
            "    /usr/local/lib/python3.10/dist-packages/translate/__version__.py\n",
            "    /usr/local/lib/python3.10/dist-packages/translate/coroutines.py\n",
            "    /usr/local/lib/python3.10/dist-packages/translate/etc/supported_translations.json\n",
            "    /usr/local/lib/python3.10/dist-packages/translate/languages.py\n",
            "    /usr/local/lib/python3.10/dist-packages/translate/tests/__init__.py\n",
            "    /usr/local/lib/python3.10/dist-packages/translate/tests/test_languages.py\n",
            "    /usr/local/lib/python3.10/dist-packages/translate/tests/test_translator.py\n",
            "    /usr/local/lib/python3.10/dist-packages/translate/translator.py\n",
            "Proceed (Y/n)? \u001b[31m  ERROR: Operation cancelled by user\u001b[0m\u001b[31m\n",
            "\u001b[0m"
          ]
        }
      ],
      "source": [
        "!pip uninstall translate\n"
      ]
    },
    {
      "cell_type": "code",
      "execution_count": null,
      "metadata": {
        "id": "tK5O3E-QafZ5"
      },
      "outputs": [],
      "source": [
        "#!pip install py-translate"
      ]
    },
    {
      "cell_type": "code",
      "execution_count": null,
      "metadata": {
        "id": "s6IMEf_aaXmZ"
      },
      "outputs": [],
      "source": [
        "#pip install googletrans==4.0.0-rc1"
      ]
    },
    {
      "cell_type": "code",
      "execution_count": null,
      "metadata": {
        "id": "NSmtvhlDahwk"
      },
      "outputs": [],
      "source": [
        "from googletrans import Translator\n",
        "\n",
        "file_path = '/content/drive/MyDrive/Python_course_2024/Final_Project/text1963.txt'\n",
        "\n",
        "with open(file_path, 'r', encoding='utf-8') as file:\n",
        "    text1963 = file.read()\n",
        "\n",
        "translator = Translator()\n",
        "translated1963 = translator.translate(text1963, src='ja', dest='en')\n",
        "\n",
        "print(translated1963.text)\n",
        "\n",
        "with open('translated_output.txt', 'w', encoding='utf-8') as file:\n",
        "    file.write(translated1963.text)\n"
      ]
    },
    {
      "cell_type": "code",
      "execution_count": null,
      "metadata": {
        "id": "BeF8S5zqnE9A"
      },
      "outputs": [],
      "source": [
        "!pip install translate"
      ]
    },
    {
      "cell_type": "code",
      "execution_count": null,
      "metadata": {
        "id": "sz9cZIwgdv-U"
      },
      "outputs": [],
      "source": [
        "from translate import Translator\n",
        "\n",
        "input_file_path = 'text1963.txt'\n",
        "output_file_path = 'translated1963.txt'\n",
        "\n",
        "translator = Translator(from_lang=\"ja\", to_lang=\"en\")\n",
        "\n",
        "try:\n",
        "    with open(input_file_path, 'r', encoding='utf-8') as file:\n",
        "        original_text = file.read()\n",
        "\n",
        "\n",
        "    translated_text = translator.translate(original_text)\n",
        "\n",
        "\n",
        "    with open(output_file_path, 'w', encoding='utf-8') as file:\n",
        "        file.write(translated_text)\n",
        "\n",
        "    print(f\"Translation completed. Saved to '{output_file_path}'.\")\n",
        "\n",
        "except FileNotFoundError:\n",
        "    print(f\"Error: The file '{input_file_path}' was not found.\")\n",
        "except Exception as e:\n",
        "    print(f\"An error occurred: {e}\")\n",
        "\n"
      ]
    },
    {
      "cell_type": "code",
      "execution_count": null,
      "metadata": {
        "id": "MoslZmhviW4I"
      },
      "outputs": [],
      "source": [
        "!pip install googletrans==4.0.0-rc1"
      ]
    },
    {
      "cell_type": "code",
      "execution_count": null,
      "metadata": {
        "id": "mwc1gQ2wiWtz"
      },
      "outputs": [],
      "source": [
        "from googletrans import Translator\n",
        "\n",
        "input_file_path = '/content/drive/MyDrive/Python_course_2024/Final_Project/text1963.txt'\n",
        "output_file_path = 'translated1963.txt'\n",
        "\n",
        "translator = Translator()\n",
        "\n",
        "try:\n",
        "    # テキストを読み込む\n",
        "    with open(input_file_path, 'r', encoding='utf-8') as file:\n",
        "        original_text = file.read()\n",
        "\n",
        "    # 翻訳（日本語→英語）\n",
        "    translated = translator.translate(original_text, src='ja', dest='en')\n",
        "\n",
        "    # 翻訳結果を保存\n",
        "    with open(output_file_path, 'w', encoding='utf-8') as file:\n",
        "        file.write(translated.text)\n",
        "\n",
        "    print(f\"Translation completed. Saved to '{output_file_path}'.\")\n",
        "\n",
        "except FileNotFoundError:\n",
        "    print(f\"Error: The file '{input_file_path}' was not found.\")\n",
        "except Exception as e:\n",
        "    print(f\"An error occurred: {e}\")\n"
      ]
    }
  ],
  "metadata": {
    "colab": {
      "provenance": [],
      "authorship_tag": "ABX9TyO2ainnPjL9FeTprA3uN+CL",
      "include_colab_link": true
    },
    "kernelspec": {
      "display_name": "Python 3",
      "name": "python3"
    },
    "language_info": {
      "name": "python"
    }
  },
  "nbformat": 4,
  "nbformat_minor": 0
}